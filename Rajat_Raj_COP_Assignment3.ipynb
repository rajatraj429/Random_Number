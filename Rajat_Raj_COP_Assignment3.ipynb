{
 "cells": [
  {
   "cell_type": "code",
   "execution_count": 1,
   "id": "ca9064d9",
   "metadata": {},
   "outputs": [],
   "source": [
    "import numpy as np\n",
    "import matplotlib.pyplot as plt"
   ]
  },
  {
   "cell_type": "code",
   "execution_count": 25,
   "id": "ca10394d",
   "metadata": {},
   "outputs": [],
   "source": [
    "import time"
   ]
  },
  {
   "cell_type": "markdown",
   "id": "8a4db959",
   "metadata": {},
   "source": [
    "# Question 1 (Linear Congruential RN generator)"
   ]
  },
  {
   "cell_type": "code",
   "execution_count": 36,
   "id": "3e768c15",
   "metadata": {},
   "outputs": [],
   "source": [
    "def linear_congruential(mod, multiplier, incream, seed):\n",
    "    return (seed*multiplier + incream)%mod"
   ]
  },
  {
   "cell_type": "code",
   "execution_count": 47,
   "id": "1d35bbd4",
   "metadata": {},
   "outputs": [
    {
     "name": "stdout",
     "output_type": "stream",
     "text": [
      "Time taken to generate 10000 RN is 0.012504816055297852\n"
     ]
    }
   ],
   "source": [
    "start_time = time.time()\n",
    "unif_nos = []\n",
    "a = 236578198\n",
    "c = 674829883\n",
    "m = 564782339\n",
    "x0 = 764753283\n",
    "for i in range(10000):\n",
    "    x0 = linear_congruential(m, a, c, x0)\n",
    "    unif_nos.append(x0)\n",
    "print(\"Time taken to generate 10000 RN is\",time.time() - start_time)"
   ]
  },
  {
   "cell_type": "code",
   "execution_count": 38,
   "id": "741763bd",
   "metadata": {},
   "outputs": [
    {
     "data": {
      "image/png": "[encoded data removed]",
      "text/plain": [
       "<Figure size 432x288 with 1 Axes>"
      ]
     },
     "metadata": {
      "needs_background": "light"
     },
     "output_type": "display_data"
    }
   ],
   "source": [
    "unif_nos_0to1 = 1.*np.array(unif_nos)/m\n",
    "bins = [0.,0.1,0.2,0.3,0.4,0.5,0.6,0.7,0.8,0.9,1.0]\n",
    "plt.hist(unif_nos_0to1, bins,density=True)\n",
    "plt.show()"
   ]
  },
  {
   "cell_type": "markdown",
   "id": "90e1dd88",
   "metadata": {},
   "source": [
    "# Question 2 (np.random.rand)"
   ]
  },
  {
   "cell_type": "code",
   "execution_count": 40,
   "id": "8c480764",
   "metadata": {},
   "outputs": [
    {
     "name": "stdout",
     "output_type": "stream",
     "text": [
      "Time taken to generate 10000 RN is 0.0004801750183105469\n"
     ]
    },
    {
     "data": {
      "image/png": "[encoded data removed]",
      "text/plain": [
       "<Figure size 432x288 with 1 Axes>"
      ]
     },
     "metadata": {
      "needs_background": "light"
     },
     "output_type": "display_data"
    }
   ],
   "source": [
    "start_time = time.time()\n",
    "rand_0to1 = np.random.rand(10000)\n",
    "print(\"Time taken to generate 10000 RN is\",time.time() - start_time)\n",
    "plt.hist(rand_0to1, bins, density=True)\n",
    "plt.show()"
   ]
  },
  {
   "cell_type": "markdown",
   "id": "25a1d504",
   "metadata": {},
   "source": [
    "# Question 3 (Time taken to generate random numbers in previous question)"
   ]
  },
  {
   "cell_type": "code",
   "execution_count": null,
   "id": "fc1a51e6",
   "metadata": {},
   "outputs": [],
   "source": []
  }
 ],
 "metadata": {
  "kernelspec": {
   "display_name": "Python 3 (ipykernel)",
   "language": "python",
   "name": "python3"
  },
  "language_info": {
   "codemirror_mode": {
    "name": "ipython",
    "version": 3
   },
   "file_extension": ".py",
   "mimetype": "text/x-python",
   "name": "python",
   "nbconvert_exporter": "python",
   "pygments_lexer": "ipython3",
   "version": "3.9.7"
  }
 },
 "nbformat": 4,
 "nbformat_minor": 5
}
